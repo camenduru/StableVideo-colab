{
  "cells": [
    {
      "cell_type": "markdown",
      "metadata": {
        "id": "view-in-github"
      },
      "source": [
        "[![Open In Colab](https://colab.research.google.com/assets/colab-badge.svg)](https://colab.research.google.com/github/camenduru/StableVideo-colab/blob/main/StableVideo_colab.ipynb)"
      ]
    },
    {
      "cell_type": "code",
      "execution_count": null,
      "metadata": {
        "id": "VjYy0F2gZIPR"
      },
      "outputs": [],
      "source": [
        "%cd /content\n",
        "!git clone -b dev https://github.com/camenduru/StableVideo\n",
        "\n",
        "!pip install -q einops gradio pytorch_lightning timm omegaconf xformers==0.0.20 transformers open-clip-torch basicsr\n",
        "\n",
        "!wget https://huggingface.co/ckpt/ControlNet/resolve/main/control_sd15_canny.pth -O /content/StableVideo/ckpt/control_sd15_canny.pth\n",
        "!wget https://huggingface.co/lllyasviel/ControlNet/resolve/main/annotator/ckpts/dpt_hybrid-midas-501f0c75.pt -O /content/StableVideo/ckpt/dpt_hybrid-midas-501f0c75.pt\n",
        "\n",
        "%cd /content/StableVideo\n",
        "\n",
        "!python app.py"
      ]
    }
  ],
  "metadata": {
    "accelerator": "GPU",
    "colab": {
      "gpuType": "T4",
      "provenance": []
    },
    "kernelspec": {
      "display_name": "Python 3",
      "name": "python3"
    },
    "language_info": {
      "name": "python"
    }
  },
  "nbformat": 4,
  "nbformat_minor": 0
}
