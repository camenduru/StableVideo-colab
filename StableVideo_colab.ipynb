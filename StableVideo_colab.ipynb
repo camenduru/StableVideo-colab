{
  "cells": [
    {
      "cell_type": "markdown",
      "metadata": {
        "id": "view-in-github"
      },
      "source": [
        "[![Open In Colab](https://colab.research.google.com/assets/colab-badge.svg)](https://colab.research.google.com/github/camenduru/StableVideo-colab/blob/main/StableVideo_colab.ipynb)"
      ]
    },
    {
      "cell_type": "code",
      "execution_count": null,
      "metadata": {
        "id": "VjYy0F2gZIPR"
      },
      "outputs": [],
      "source": [
        "%cd /content\n",
        "!git clone -b dev https://github.com/camenduru/StableVideo\n",
        "\n",
        "!wget https://huggingface.co/ckpt/ControlNet/resolve/main/control_sd15_canny.pth -O /content/StableVideo/ckpt/control_sd15_canny.pth\n",
        "!wget https://huggingface.co/lllyasviel/ControlNet/resolve/main/annotator/ckpts/dpt_hybrid-midas-501f0c75.pt -O /content/StableVideo/ckpt/dpt_hybrid-midas-501f0c75.pt\n",
        "\n",
        "%cd /content/StableVideo\n",
        "\n",
        "# !pip install -q aiofiles antlr4-python3-runtime einops fastapi ffmpy ftfy gradio gradio_client h11 httpcore httpx huggingface-hub\n",
        "# !pip install -q lightning-utilities nvidia-cublas-cu11 nvidia-cuda-cupti-cu11 nvidia-cuda-nvrtc-cu11 nvidia-cuda-runtime-cu11 nvidia-cudnn-cu11 nvidia-cufft-cu11\n",
        "# !pip install -q nvidia-curand-cu11 nvidia-cusolver-cu11 nvidia-cusparse-cu11 nvidia-nccl-cu11 nvidia-nvtx-cu11 omegaconf open-clip-torch orjson pyDeprecate\n",
        "# !pip install -q pydub python-multipart pytorch-lightning safetensors semantic-version sentencepiece starlette timm tokenizers torchmetrics transformers\n",
        "# !pip install -q tzdata uvicorn websockets basicsr\n",
        "\n",
        "!python app.py"
      ]
    }
  ],
  "metadata": {
    "accelerator": "GPU",
    "colab": {
      "gpuType": "T4",
      "provenance": []
    },
    "kernelspec": {
      "display_name": "Python 3",
      "name": "python3"
    },
    "language_info": {
      "name": "python"
    }
  },
  "nbformat": 4,
  "nbformat_minor": 0
}
